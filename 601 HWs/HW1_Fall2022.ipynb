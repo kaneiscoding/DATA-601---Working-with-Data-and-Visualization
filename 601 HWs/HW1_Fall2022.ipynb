{
 "cells": [
  {
   "cell_type": "code",
   "execution_count": 2,
   "id": "23875979",
   "metadata": {
    "deletable": false,
    "editable": false
   },
   "outputs": [],
   "source": [
    "# Initialize Otter\n",
    "import otter\n",
    "grader = otter.Notebook(\"HW1_Fall2022.ipynb\")"
   ]
  },
  {
   "cell_type": "markdown",
   "id": "5a65f45f",
   "metadata": {},
   "source": [
    "# DATA 601\n",
    "\n",
    "## HW1\n",
    "\n",
    "\n",
    "**Learning Objectives**\n",
    "\n",
    "- Explore built-in data types in Python.\n",
    "- Review fundamental programming and problem solving concepts with Python.\n",
    "- Implement functions based on mathematical concepts and definitions.\n",
    "- Gain experience working with the Jupyter notebook environment.\n",
    "\n",
    "_This is an individual homework assignment._ \n",
    "\n",
    "Please complete this homework assignment within the Jupypter notebook environment.  \n",
    "\n",
    "#### Submission \n",
    "\n",
    "In order to ensure that everything goes smoothly, and is easy to grade please follow these instructions:\n",
    "\n",
    "- Please provide your solutions where asked; please do not alter any other parts of this notebook.\n"
   ]
  },
  {
   "cell_type": "markdown",
   "id": "a3b07731",
   "metadata": {},
   "source": [
    "#### <font color='red'> Note: Passing the provided test-cases doesn't guarantee points. We check your code with other test-cases for grading.</font> "
   ]
  },
  {
   "cell_type": "code",
   "execution_count": 3,
   "id": "f4a124a1",
   "metadata": {},
   "outputs": [],
   "source": [
    "# Check that we are using a recent version of Jupyter.\n",
    "import IPython\n",
    "assert IPython.version_info[0] >= 3, \"Your version of IPython is too old, please update it.\"\n",
    "import otter\n",
    "grader = otter.Notebook(\"HW1_Fall2022.ipynb\")"
   ]
  },
  {
   "cell_type": "markdown",
   "id": "40b8d3ad",
   "metadata": {},
   "source": [
    "## Part A\n",
    "\n",
    "This part focuses on scalar types. You should be able to complete the following questions without using any collection types."
   ]
  },
  {
   "cell_type": "markdown",
   "id": "25044189",
   "metadata": {},
   "source": [
    "### Question 1\n",
    "\n",
    "The central bionomial coefficients form a vertical row down the middle of Pascal's triangle. They can be calculated via the following formula:\n",
    "\n",
    "$$\n",
    "{2n\\choose n} = \\frac{(2n)!}{(n!)^2} = \\prod_{k=1}^{n} \\frac{n+k}{k}  \n",
    "$$\n",
    "\n",
    "Write a function that calculates the nth central bionomial coefficient. You may use in-built functions to calculate the factorials.\n",
    "\n",
    "(3 points)"
   ]
  },
  {
   "cell_type": "code",
   "execution_count": 4,
   "id": "533455c8",
   "metadata": {
    "tags": []
   },
   "outputs": [],
   "source": [
    "import math \n",
    "def cent_binomial_coef(n):\n",
    "    result = math.comb(2*n,n)\n",
    "    return result\n",
    "    '''Returns the n-th binomial coefficient for an input\n",
    "    integer n.\n",
    "    '''\n",
    "    ..."
   ]
  },
  {
   "cell_type": "code",
   "execution_count": 5,
   "id": "57b6e467",
   "metadata": {
    "deletable": false,
    "editable": false
   },
   "outputs": [
    {
     "data": {
      "text/html": [
       "<p><strong><pre style='display: inline;'>q1_a</pre></strong> passed!</p>"
      ],
      "text/plain": [
       "q1_a results: All test cases passed!"
      ]
     },
     "execution_count": 5,
     "metadata": {},
     "output_type": "execute_result"
    }
   ],
   "source": [
    "grader.check(\"q1_a\")"
   ]
  },
  {
   "cell_type": "code",
   "execution_count": 21,
   "id": "ee92c118-7837-4ed6-9531-8e7515b96a3e",
   "metadata": {},
   "outputs": [
    {
     "data": {
      "text/plain": [
       "1"
      ]
     },
     "execution_count": 21,
     "metadata": {},
     "output_type": "execute_result"
    }
   ],
   "source": [
    "cent_binomial_coef(0)"
   ]
  },
  {
   "cell_type": "markdown",
   "id": "062527f4",
   "metadata": {},
   "source": [
    "### Question 2\n",
    "\n",
    "Write a function that determines whether an integer is prime. You may not use built-in functions to determine this directly.\n",
    "\n",
    "(8 points)"
   ]
  },
  {
   "cell_type": "code",
   "execution_count": 6,
   "id": "465becd4",
   "metadata": {
    "tags": []
   },
   "outputs": [],
   "source": [
    "def is_prime(n):\n",
    "    diviser = 2\n",
    "    while diviser < n:\n",
    "        if (n % diviser) == 0:\n",
    "            return False\n",
    "        diviser += 1\n",
    "    return True\n",
    "    '''For a positive integer n, returns True if n is a \n",
    "    prime number, False otherwise.\n",
    "    '''\n",
    "    ..."
   ]
  },
  {
   "cell_type": "code",
   "execution_count": 7,
   "id": "f75d6110",
   "metadata": {
    "deletable": false,
    "editable": false
   },
   "outputs": [
    {
     "data": {
      "text/html": [
       "<p><strong><pre style='display: inline;'>q2_a</pre></strong> passed!</p>"
      ],
      "text/plain": [
       "q2_a results: All test cases passed!"
      ]
     },
     "execution_count": 7,
     "metadata": {},
     "output_type": "execute_result"
    }
   ],
   "source": [
    "grader.check(\"q2_a\")"
   ]
  },
  {
   "cell_type": "markdown",
   "id": "edd9070f",
   "metadata": {},
   "source": [
    "##### Question 3\n",
    "\n",
    "(5 points)\n",
    "\n",
    "Many things in nature can be modeled by the exponential growth function: \n",
    "$$\n",
    "P(t) = \\alpha \\beta^{\\frac{t}{\\tau}},\n",
    "$$\n",
    "where $\\alpha$ is the initial population, $\\beta$ is the growth rate factor, t is the time passed, and $\\tau$ is the time constant. \n",
    "\n",
    "Imagine that you are an entomologist on the plant Zergo. There is a small insect of interest to you on this planet which has an exponential growth rate. From experimentation you determine that: \n",
    "$\\beta= \\sqrt\\frac{5}{4}$,  and $\\tau= 2^{\\frac{1}{3}}$.\n",
    "\n",
    "Starting with a population $\\alpha$ of 10, use this formula to compute $P(t)$ in the function `population(t)` below. \n",
    "\n",
    "<!--\n",
    "BEGIN QUESTION\n",
    "name: A3\n",
    "manual: true\n",
    "points: 2\n",
    "-->"
   ]
  },
  {
   "cell_type": "code",
   "execution_count": 8,
   "id": "9978da02",
   "metadata": {
    "tags": []
   },
   "outputs": [],
   "source": [
    "import math\n",
    "def population(t):\n",
    "    initial = 10\n",
    "    pop = math.floor(initial*(math.sqrt(5/4)**(t/(2**(1/3)))))\n",
    "    return pop\n",
    "    \n",
    "    '''Computes the population at time t, where t is a positive float, \n",
    "    and returns the population as an integer (floor value). \n",
    "    It is assumed that time is in minutes and that all parameters\n",
    "    are correct for this assumption.\n",
    "    '''\n",
    "    ..."
   ]
  },
  {
   "cell_type": "code",
   "execution_count": 9,
   "id": "d3bf5308",
   "metadata": {
    "deletable": false,
    "editable": false
   },
   "outputs": [
    {
     "data": {
      "text/html": [
       "<p><strong><pre style='display: inline;'>q3_a</pre></strong> passed!</p>"
      ],
      "text/plain": [
       "q3_a results: All test cases passed!"
      ]
     },
     "execution_count": 9,
     "metadata": {},
     "output_type": "execute_result"
    }
   ],
   "source": [
    "grader.check(\"q3_a\")"
   ]
  },
  {
   "cell_type": "markdown",
   "id": "bb99f433",
   "metadata": {},
   "source": [
    "## Part B\n",
    "\n",
    "Questions in this part rely on strings, lists, and tuples."
   ]
  },
  {
   "cell_type": "markdown",
   "id": "71641aa9",
   "metadata": {},
   "source": [
    "### Question 1\n",
    "\n",
    "Consider the lists $a=[2,1,2,5,3,1]$ and $b=[2,1,7,1]$. The intersection of these lists, $a \\cap b$, is $[1,1,2]$. Write a function that returns the intersection of two arbitrary lists. You may not use built-in set operations, and should pay attention to duplicates.\n",
    "\n",
    "(5 points)\n"
   ]
  },
  {
   "cell_type": "code",
   "execution_count": 10,
   "id": "100455c0",
   "metadata": {
    "tags": []
   },
   "outputs": [],
   "source": [
    "def intersection_list(a,b):\n",
    "    intersection = []\n",
    "    for i,u in enumerate(a):\n",
    "        for x,y in enumerate(b):\n",
    "            try:\n",
    "                if u == y:\n",
    "                    intersection.append(y)\n",
    "                    b.remove(x)\n",
    "                    a.remove(i)\n",
    "                    pass\n",
    "            except:\n",
    "                pass\n",
    "    return intersection\n",
    "    '''\n",
    "    Returns the intersection of two lists a and b. \n",
    "    \n",
    "    '''\n",
    "    ..."
   ]
  },
  {
   "cell_type": "code",
   "execution_count": 12,
   "id": "897c4fa0",
   "metadata": {
    "deletable": false,
    "editable": false
   },
   "outputs": [
    {
     "data": {
      "text/html": [
       "<p><strong><pre style='display: inline;'>q1_b</pre></strong> passed!</p>"
      ],
      "text/plain": [
       "q1_b results: All test cases passed!"
      ]
     },
     "execution_count": 12,
     "metadata": {},
     "output_type": "execute_result"
    }
   ],
   "source": [
    "grader.check(\"q1_b\")"
   ]
  },
  {
   "cell_type": "markdown",
   "id": "0ed1a0b4",
   "metadata": {},
   "source": [
    "### Question 2\n",
    "(8 points)\n",
    "\n",
    "The scalar triple product of three vectors is defined as:\n",
    "\n",
    "$$\n",
    "a.(b \\times c)\n",
    "$$\n",
    "\n",
    "Write a function that calculates the scalar triple product of three vectors, a, b, and c."
   ]
  },
  {
   "cell_type": "code",
   "execution_count": 13,
   "id": "53bf87a5",
   "metadata": {
    "tags": []
   },
   "outputs": [],
   "source": [
    "def striple_prod(a,b,c):\n",
    "    x = b[1]*c[2] - b[2]*c[1]\n",
    "    y = b[2]*c[0] - b[0]*c[2]\n",
    "    z = b[0]*c[1] - b[1]*c[0]\n",
    "    result = (a[0]*x)+(a[1]*y)+(a[2]*z)   \n",
    "    return result\n",
    "    '''Returns the scalar triple product of three vectors A, B, and C. \n",
    "    '''\n",
    "    ..."
   ]
  },
  {
   "cell_type": "code",
   "execution_count": 16,
   "id": "80923743",
   "metadata": {
    "deletable": false,
    "editable": false
   },
   "outputs": [
    {
     "data": {
      "text/html": [
       "<p><strong><pre style='display: inline;'>q2_b</pre></strong> passed!</p>"
      ],
      "text/plain": [
       "q2_b results: All test cases passed!"
      ]
     },
     "execution_count": 16,
     "metadata": {},
     "output_type": "execute_result"
    }
   ],
   "source": [
    "grader.check(\"q2_b\")"
   ]
  },
  {
   "cell_type": "markdown",
   "id": "14ee8c87",
   "metadata": {},
   "source": [
    "### Question 3\n",
    "(10 points)\n",
    "\n",
    "Write a function that, given a piece of text, calculates the most frequently occuring letter.\n"
   ]
  },
  {
   "cell_type": "code",
   "execution_count": 17,
   "id": "89928b6e",
   "metadata": {
    "tags": []
   },
   "outputs": [],
   "source": [
    "import collections\n",
    "def freq_letters(text):\n",
    "    text = text.lower()\n",
    "    alphabet = ['a','b','c','d','e','f','g','h','i','j','k','l','m','n','o','p','q','r','s','t','u','v', 'w','x','y','z']\n",
    "    d = collections.defaultdict(int)\n",
    "    #initialize dict\n",
    "    for i in text:\n",
    "        if i in alphabet:\n",
    "            d[i] += 1\n",
    "    return sorted(d.items(), key=lambda x: x[1], reverse=True)[0][0]\n",
    "    '''\n",
    "    For textual input, returns the most frequently occuring letter \n",
    "    (your function should be case-insensitive)\n",
    "    '''\n",
    "    ..."
   ]
  },
  {
   "cell_type": "code",
   "execution_count": 18,
   "id": "f1c255ab",
   "metadata": {
    "deletable": false,
    "editable": false
   },
   "outputs": [
    {
     "data": {
      "text/html": [
       "<p><strong><pre style='display: inline;'>q3_b_1</pre></strong> passed!</p><p><strong><pre style='display: inline;'>q3_b_1 - 1</pre> message:</strong> Good job!</p>"
      ],
      "text/plain": [
       "q3_b_1 results: All test cases passed!\n",
       "q3_b_1 - 1 message: Good job!"
      ]
     },
     "execution_count": 18,
     "metadata": {},
     "output_type": "execute_result"
    }
   ],
   "source": [
    "grader.check(\"q3_b_1\")"
   ]
  },
  {
   "cell_type": "markdown",
   "id": "275c24ff",
   "metadata": {},
   "source": [
    "Write a second function that returns the number of vowels and consonants in the text."
   ]
  },
  {
   "cell_type": "code",
   "execution_count": 19,
   "id": "40bb89e7",
   "metadata": {
    "tags": []
   },
   "outputs": [],
   "source": [
    "def vowels(text):\n",
    "    num_vowels = 0\n",
    "    num_consonants = 0\n",
    "    vowels =['a','e','i','o','u','y']\n",
    "    consonants = ['b','c','d','f','g','j','k','l','m','n','p','q','s','t','v','x','z']\n",
    "    for i in text:\n",
    "        for x in vowels:\n",
    "            if x == i.lower():\n",
    "                num_vowels += 1\n",
    "        for y in consonants:\n",
    "                  if y == i.lower():\n",
    "                      num_consonants += 1\n",
    "    return (num_vowels, num_consonants)\n",
    "    '''\n",
    "    For textual input, returns the number of vowels and consonants.\n",
    "    Return a tuple with number of vowels as the first element and consonants\n",
    "    as the second element, i.e (num_vowels, num_consonant)\n",
    "    '''\n",
    "    ..."
   ]
  },
  {
   "cell_type": "code",
   "execution_count": 20,
   "id": "e50a732c",
   "metadata": {
    "deletable": false,
    "editable": false
   },
   "outputs": [
    {
     "data": {
      "text/html": [
       "<p><strong><pre style='display: inline;'>q3_b_2</pre></strong> passed!</p>"
      ],
      "text/plain": [
       "q3_b_2 results: All test cases passed!"
      ]
     },
     "execution_count": 20,
     "metadata": {},
     "output_type": "execute_result"
    }
   ],
   "source": [
    "grader.check(\"q3_b_2\")"
   ]
  },
  {
   "cell_type": "markdown",
   "id": "2f9c1b9a",
   "metadata": {},
   "source": [
    "## Part C\n",
    "\n",
    "The question in this part of the assignment is intended to:\n",
    "\n",
    "  1) Illuminate how what you already know is useful in this context.\n",
    "  \n",
    "  2) Provide an exercise in writing about coding concepts and ideas and using the relevant language and terminology. \n",
    "  \n",
    "  3) Demonstrate your understanding of the assignment material in a different format.\n"
   ]
  },
  {
   "cell_type": "markdown",
   "id": "08705d99",
   "metadata": {},
   "source": [
    "<!-- BEGIN QUESTION -->\n",
    "\n",
    "### Question 1 \n",
    "(3 points) \n",
    "\n",
    "In 100 to 250 words identify a concept you have found difficult or confusing from this assignment. Reflect on how your previous learning or experience helped you to understand this concept. Provide your reflection using markdown in the cell below. "
   ]
  },
  {
   "cell_type": "markdown",
   "id": "ad22523b",
   "metadata": {},
   "source": []
  },
  {
   "cell_type": "markdown",
   "id": "d449867a",
   "metadata": {},
   "source": [
    "_I had the most trouble with the intersection in Question 1 of Part B. The main reason was because I was creating nested loops thhat were becoming difficult to keep track of. The previous experience that helped me was tracing my code step-by-step as well as asking myself what each condition/loop was accomplishing. This allowed me to break the function down and remember what should be in each loop._"
   ]
  },
  {
   "cell_type": "markdown",
   "id": "0332fa23",
   "metadata": {},
   "source": [
    "<!-- END QUESTION -->\n",
    "\n",
    "## Submission\n",
    "\n",
    "Make sure you have run all cells in your notebook and that your code works as expected. Save your notebook and upload it to <a href=https://www.gradescope.ca >Gradescope</a>\n",
    "**Please save (ctrl+s) before uploading!**"
   ]
  },
  {
   "cell_type": "code",
   "execution_count": null,
   "id": "74f7321d",
   "metadata": {},
   "outputs": [],
   "source": []
  }
 ],
 "metadata": {
  "kernelspec": {
   "display_name": "Python 3 (ipykernel)",
   "language": "python",
   "name": "python3"
  },
  "language_info": {
   "codemirror_mode": {
    "name": "ipython",
    "version": 3
   },
   "file_extension": ".py",
   "mimetype": "text/x-python",
   "name": "python",
   "nbconvert_exporter": "python",
   "pygments_lexer": "ipython3",
   "version": "3.10.6"
  },
  "otter": {
   "OK_FORMAT": true,
   "tests": {
    "q1_a": {
     "name": "q1_a",
     "points": 3,
     "suites": [
      {
       "cases": [
        {
         "code": ">>> cent_binomial_coef(0) == 1\nTrue",
         "failure_message": "Don't forget (0)! is 1.",
         "hidden": false,
         "locked": false,
         "points": 0
        },
        {
         "code": ">>> cent_binomial_coef(1) == 2\nTrue",
         "hidden": false,
         "locked": false,
         "points": 0
        }
       ],
       "scored": true,
       "setup": "",
       "teardown": "",
       "type": "doctest"
      }
     ]
    },
    "q1_b": {
     "name": "q1_b",
     "points": 5,
     "suites": [
      {
       "cases": [
        {
         "code": ">>> def testcase1(intersection_list):\n...     temp = intersection_list([2,1,2,5,3,1], [2,1,7,1])\n...     length = len(temp)\n...     ones = temp.count(1)\n...     twos = temp.count(2)\n...     assert (length, ones, twos) == (3, 2, 1)\n>>> testcase1(intersection_list)\n",
         "hidden": false,
         "locked": false,
         "points": 0
        }
       ],
       "scored": true,
       "setup": "",
       "teardown": "",
       "type": "doctest"
      }
     ]
    },
    "q2_a": {
     "name": "q2_a",
     "points": 8,
     "suites": [
      {
       "cases": [
        {
         "code": ">>> is_prime(2) == True\nTrue",
         "hidden": false,
         "locked": false,
         "points": 0
        },
        {
         "code": ">>> is_prime(3) == True\nTrue",
         "hidden": false,
         "locked": false,
         "points": 0
        },
        {
         "code": ">>> is_prime(4) == False\nTrue",
         "hidden": false,
         "locked": false,
         "points": 0
        }
       ],
       "scored": true,
       "setup": "",
       "teardown": "",
       "type": "doctest"
      }
     ]
    },
    "q2_b": {
     "name": "q2_b",
     "points": 8,
     "suites": [
      {
       "cases": [
        {
         "code": ">>> striple_prod([5, 1, 2], [-1]*3, [2, 1, 0]) == 5\nTrue",
         "hidden": false,
         "locked": false,
         "points": 0
        }
       ],
       "scored": true,
       "setup": "",
       "teardown": "",
       "type": "doctest"
      }
     ]
    },
    "q3_a": {
     "name": "q3_a",
     "points": 5,
     "suites": [
      {
       "cases": [
        {
         "code": ">>> population(5.7) == 16\nTrue",
         "hidden": false,
         "locked": false,
         "points": 0
        },
        {
         "code": ">>> population(2.9) == 12\nTrue",
         "hidden": false,
         "locked": false,
         "points": 0
        }
       ],
       "scored": true,
       "setup": "",
       "teardown": "",
       "type": "doctest"
      }
     ]
    },
    "q3_b_1": {
     "name": "q3_b_1",
     "points": 5,
     "suites": [
      {
       "cases": [
        {
         "code": ">>> freq_letters('a!!!!!').lower() == 'a'\nTrue",
         "failure_message": "You should only count letters a-z and not numbers, punctuation, spaces, etc.",
         "hidden": false,
         "locked": false,
         "points": 0,
         "success_message": "Good job!"
        }
       ],
       "scored": true,
       "setup": "",
       "teardown": "",
       "type": "doctest"
      }
     ]
    },
    "q3_b_2": {
     "name": "q3_b_2",
     "points": 5,
     "suites": [
      {
       "cases": [
        {
         "code": ">>> vowels('I like banana!!') == (6, 5)\nTrue",
         "hidden": false,
         "locked": false,
         "points": 0
        }
       ],
       "scored": true,
       "setup": "",
       "teardown": "",
       "type": "doctest"
      }
     ]
    }
   }
  }
 },
 "nbformat": 4,
 "nbformat_minor": 5
}
